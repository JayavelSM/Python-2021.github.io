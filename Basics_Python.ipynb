{
  "nbformat": 4,
  "nbformat_minor": 0,
  "metadata": {
    "colab": {
      "provenance": [],
      "authorship_tag": "ABX9TyOXjHbVKMTDbXzDfEvHPazA",
      "include_colab_link": true
    },
    "kernelspec": {
      "name": "python3",
      "display_name": "Python 3"
    },
    "language_info": {
      "name": "python"
    }
  },
  "cells": [
    {
      "cell_type": "markdown",
      "metadata": {
        "id": "view-in-github",
        "colab_type": "text"
      },
      "source": [
        "<a href=\"https://colab.research.google.com/github/JayavelSM/Python-2021.github.io/blob/main/Basics_Python.ipynb\" target=\"_parent\"><img src=\"https://colab.research.google.com/assets/colab-badge.svg\" alt=\"Open In Colab\"/></a>"
      ]
    },
    {
      "cell_type": "code",
      "source": [],
      "metadata": {
        "id": "Kr6oQ_vZwuGb"
      },
      "execution_count": null,
      "outputs": []
    },
    {
      "cell_type": "markdown",
      "source": [
        "Starting Of Basics in Python - **Day 1**"
      ],
      "metadata": {
        "id": "8mRZCPqtwzOg"
      }
    },
    {
      "cell_type": "code",
      "execution_count": 1,
      "metadata": {
        "colab": {
          "base_uri": "https://localhost:8080/"
        },
        "id": "GTrAq_yJvc8p",
        "outputId": "c1d34d24-69c3-421e-d325-c12c3ed263ca"
      },
      "outputs": [
        {
          "output_type": "execute_result",
          "data": {
            "text/plain": [
              "4"
            ]
          },
          "metadata": {},
          "execution_count": 1
        }
      ],
      "source": [
        "2+2\n"
      ]
    },
    {
      "cell_type": "code",
      "source": [
        "print(\"Hello World\")"
      ],
      "metadata": {
        "colab": {
          "base_uri": "https://localhost:8080/"
        },
        "id": "zT60ptIrvmeL",
        "outputId": "b6afc2ee-5f7d-4d77-ce3e-8b56de35de77"
      },
      "execution_count": 2,
      "outputs": [
        {
          "output_type": "stream",
          "name": "stdout",
          "text": [
            "Hello World\n"
          ]
        }
      ]
    },
    {
      "cell_type": "code",
      "source": [
        "2**3"
      ],
      "metadata": {
        "colab": {
          "base_uri": "https://localhost:8080/"
        },
        "id": "lr6De7zGwLIK",
        "outputId": "a73d853d-e441-4130-b4fb-73d9c861d76f"
      },
      "execution_count": 3,
      "outputs": [
        {
          "output_type": "execute_result",
          "data": {
            "text/plain": [
              "8"
            ]
          },
          "metadata": {},
          "execution_count": 3
        }
      ]
    },
    {
      "cell_type": "code",
      "source": [
        "temp=\"Hello World\"\n",
        "print(temp)\n",
        "print(type(temp))"
      ],
      "metadata": {
        "colab": {
          "base_uri": "https://localhost:8080/"
        },
        "id": "OCBgPGdOwMuk",
        "outputId": "42a083ff-c901-4c78-b73e-297d105e85e0"
      },
      "execution_count": 4,
      "outputs": [
        {
          "output_type": "stream",
          "name": "stdout",
          "text": [
            "Hello World\n",
            "<class 'str'>\n"
          ]
        }
      ]
    },
    {
      "cell_type": "code",
      "source": [
        "temp=\"      Python LangUage Learning      \"\n",
        "string1= temp.lstrip()\n",
        "print(\"Left Strip:\",string1)\n",
        "string2= temp.rstrip()\n",
        "print(\"Right Strip:\",string2)\n",
        "string3= temp.strip()\n",
        "print(\"Strip Both Side:\",string3)\n",
        "print(\"Length of the string :\",len(temp))"
      ],
      "metadata": {
        "colab": {
          "base_uri": "https://localhost:8080/"
        },
        "id": "c94r_qZmyNXI",
        "outputId": "8958dcd4-4516-4469-9f6d-dc516dfcab21"
      },
      "execution_count": 9,
      "outputs": [
        {
          "output_type": "stream",
          "name": "stdout",
          "text": [
            "Left Strip: Python LangUage Learning      \n",
            "Right Strip:       Python LangUage Learning\n",
            "Strip Both Side: Python LangUage Learning\n",
            "Length of the string : 36\n"
          ]
        }
      ]
    },
    {
      "cell_type": "code",
      "source": [
        "temp= tuple(temp)\n",
        "print(type(temp))"
      ],
      "metadata": {
        "colab": {
          "base_uri": "https://localhost:8080/"
        },
        "id": "19OL1fHF4HUr",
        "outputId": "4f47e3e8-aebe-44b9-d4f7-f8de4f627421"
      },
      "execution_count": 10,
      "outputs": [
        {
          "output_type": "stream",
          "name": "stdout",
          "text": [
            "<class 'tuple'>\n"
          ]
        }
      ]
    },
    {
      "cell_type": "code",
      "source": [
        "temp=list(temp)\n",
        "print(type(temp))"
      ],
      "metadata": {
        "colab": {
          "base_uri": "https://localhost:8080/"
        },
        "id": "GGeM4T6x--RW",
        "outputId": "532eb70e-3ca7-49f9-b7b7-12c2be429010"
      },
      "execution_count": 11,
      "outputs": [
        {
          "output_type": "stream",
          "name": "stdout",
          "text": [
            "<class 'list'>\n"
          ]
        }
      ]
    },
    {
      "cell_type": "code",
      "source": [
        "print(temp)"
      ],
      "metadata": {
        "colab": {
          "base_uri": "https://localhost:8080/"
        },
        "id": "c4gJEbLB_EHr",
        "outputId": "faf0607e-5303-4dae-e057-dc4f603c68b6"
      },
      "execution_count": 12,
      "outputs": [
        {
          "output_type": "stream",
          "name": "stdout",
          "text": [
            "[' ', ' ', ' ', ' ', ' ', ' ', 'P', 'y', 't', 'h', 'o', 'n', ' ', 'L', 'a', 'n', 'g', 'U', 'a', 'g', 'e', ' ', 'L', 'e', 'a', 'r', 'n', 'i', 'n', 'g', ' ', ' ', ' ', ' ', ' ', ' ']\n"
          ]
        }
      ]
    },
    {
      "cell_type": "code",
      "source": [
        "temp1=dict[{\"a\":10},{\"b\":20},{\"c\" : 30}]\n",
        "print(temp1)"
      ],
      "metadata": {
        "colab": {
          "base_uri": "https://localhost:8080/"
        },
        "id": "4r-rtFXX_GNQ",
        "outputId": "ca45a6ae-1245-4840-bd39-8d2956d07479"
      },
      "execution_count": 16,
      "outputs": [
        {
          "output_type": "stream",
          "name": "stdout",
          "text": [
            "dict[{'a': 10}, {'b': 20}, {'c': 30}]\n"
          ]
        }
      ]
    },
    {
      "cell_type": "markdown",
      "source": [],
      "metadata": {
        "id": "YVdckIyD3epy"
      }
    },
    {
      "cell_type": "code",
      "source": [],
      "metadata": {
        "id": "BhqNtr0jAZfN"
      },
      "execution_count": null,
      "outputs": []
    }
  ]
}